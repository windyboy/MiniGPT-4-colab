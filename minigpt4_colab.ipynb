{
  "cells": [
    {
      "cell_type": "markdown",
      "metadata": {
        "id": "view-in-github"
      },
      "source": [
        "[![Open In Colab](https://colab.research.google.com/assets/colab-badge.svg)](https://colab.research.google.com/github/camenduru/MiniGPT-4-colab/blob/main/minigpt4_colab.ipynb)"
      ]
    },
    {
      "cell_type": "code",
      "execution_count": null,
      "metadata": {
        "id": "QdfSfmJD4fAc"
      },
      "outputs": [],
      "source": [
        "%cd /content\n ",
"from google.colab import drive \n",
"drive.mount('/content/drive') \n",
"%env PYTHONDONTWRITEBYTECODE=1 \n",
"!apt-get -y install -qq aria2 \n",

        "!git clone -b dev https://github.com/camenduru/minigpt4\n",
        "!aria2c --console-log-level=error -c -x 16 -s 16 -k 1M https://huggingface.co/ckpt/minigpt4/resolve/main/minigpt4.pth -d /content/minigpt4/checkpoint.pth\n",
        "!aria2c --console-log-level=error -c -x 16 -s 16 -k 1M https://huggingface.co/ckpt/minigpt4/resolve/main/blip2_pretrained_flant5xxl.pth -d /content/minigpt4/blip2_pretrained_flant5xxl.pth\n",
        "\n",
        "!pip install -q salesforce-lavis\n",
        "!pip install -q bitsandbytes\n",
        "!pip install -q accelerate\n",
        "!pip install -q gradio==3.27.0\n",
        "!pip install -q git+https://github.com/huggingface/transformers.git -U\n",
        "\n",
        "%cd /content/minigpt4\n",
        "!python app.py"
      ]
    }
  ],
  "metadata": {
    "accelerator": "GPU",
    "colab": {
      "provenance": []
    },
    "gpuClass": "premium",
    "kernelspec": {
      "display_name": "Python 3",
      "name": "python3"
    },
    "language_info": {
      "name": "python"
    }
  },
  "nbformat": 4,
  "nbformat_minor": 0
}
